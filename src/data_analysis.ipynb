{
 "cells": [
  {
   "cell_type": "code",
   "execution_count": 1,
   "id": "7f87cf48",
   "metadata": {},
   "outputs": [],
   "source": [
    "import pandas as pd"
   ]
  },
  {
   "cell_type": "code",
   "execution_count": 2,
   "id": "9ebbd588",
   "metadata": {},
   "outputs": [],
   "source": [
    "ROOT = \"../\"\n",
    "DATA  = ROOT + \"datasets/\"\n",
    "MODELS = ROOT + \"models/\""
   ]
  },
  {
   "cell_type": "code",
   "execution_count": 18,
   "id": "9cdf6bef",
   "metadata": {},
   "outputs": [
    {
     "name": "stdout",
     "output_type": "stream",
     "text": [
      "Missin values : 2001\n",
      "Miss percentage:2.70\n",
      "\n",
      "<class 'pandas.core.frame.DataFrame'>\n",
      "RangeIndex: 2000 entries, 0 to 1999\n",
      "Data columns (total 37 columns):\n",
      " #   Column        Non-Null Count  Dtype  \n",
      "---  ------        --------------  -----  \n",
      " 0   LVFAILURE     1953 non-null   float64\n",
      " 1   HISTORY       1955 non-null   float64\n",
      " 2   LVEDVOLUME    1953 non-null   float64\n",
      " 3   CVP           1935 non-null   float64\n",
      " 4   PCWP          1958 non-null   float64\n",
      " 5   HYPOVOLEMIA   1928 non-null   float64\n",
      " 6   STROKEVOLUME  1946 non-null   float64\n",
      " 7   ERRLOWOUTPUT  1946 non-null   float64\n",
      " 8   HRBP          1938 non-null   float64\n",
      " 9   HR            1938 non-null   float64\n",
      " 10  ERRCAUTER     1953 non-null   float64\n",
      " 11  HREKG         1944 non-null   float64\n",
      " 12  HRSAT         1944 non-null   float64\n",
      " 13  ANAPHYLAXIS   1952 non-null   float64\n",
      " 14  TPR           1945 non-null   float64\n",
      " 15  ARTCO2        1936 non-null   float64\n",
      " 16  EXPCO2        1943 non-null   float64\n",
      " 17  VENTLUNG      1960 non-null   float64\n",
      " 18  INTUBATION    1946 non-null   float64\n",
      " 19  MINVOL        1948 non-null   float64\n",
      " 20  FIO2          1948 non-null   float64\n",
      " 21  PVSAT         1959 non-null   float64\n",
      " 22  VENTALV       1934 non-null   float64\n",
      " 23  SAO2          1953 non-null   float64\n",
      " 24  SHUNT         1944 non-null   float64\n",
      " 25  PULMEMBOLUS   1941 non-null   float64\n",
      " 26  PAP           1954 non-null   float64\n",
      " 27  PRESS         1944 non-null   float64\n",
      " 28  KINKEDTUBE    1945 non-null   float64\n",
      " 29  VENTTUBE      1941 non-null   float64\n",
      " 30  MINVOLSET     1943 non-null   float64\n",
      " 31  VENTMACH      1947 non-null   float64\n",
      " 32  DISCONNECT    1941 non-null   float64\n",
      " 33  CATECHOL      1953 non-null   float64\n",
      " 34  INSUFFANESTH  1934 non-null   float64\n",
      " 35  CO            1940 non-null   float64\n",
      " 36  BP            1957 non-null   float64\n",
      "dtypes: float64(37)\n",
      "memory usage: 578.2 KB\n"
     ]
    }
   ],
   "source": [
    "name = \"alarm\"\n",
    "dataset = pd.read_csv(DATA + name + \"/test_missing.csv\")\n",
    "print(f\"Missin values : {dataset.isna().sum().sum()}\")\n",
    "print(f\"Miss percentage:{dataset.isna().sum().sum() / dataset.size * 100:.2f}\\n\")\n",
    "dataset.info()"
   ]
  },
  {
   "cell_type": "code",
   "execution_count": 17,
   "id": "c7bcd1da",
   "metadata": {},
   "outputs": [
    {
     "name": "stdout",
     "output_type": "stream",
     "text": [
      "Missin values : 1975\n",
      "Miss percentage:0.44\n",
      "\n",
      "<class 'pandas.core.frame.DataFrame'>\n",
      "RangeIndex: 2000 entries, 0 to 1999\n",
      "Columns: 223 entries, DISPLACEM0 to SNode_19\n",
      "dtypes: float64(223)\n",
      "memory usage: 3.4 MB\n"
     ]
    }
   ],
   "source": [
    "name = \"andes\"\n",
    "dataset = pd.read_csv(DATA + name + \"/test_missing.csv\")\n",
    "print(f\"Missin values : {dataset.isna().sum().sum()}\")\n",
    "print(f\"Miss percentage:{dataset.isna().sum().sum() / dataset.size * 100:.2f}\\n\")\n",
    "dataset.info()"
   ]
  },
  {
   "cell_type": "code",
   "execution_count": 15,
   "id": "816b4fb7",
   "metadata": {},
   "outputs": [
    {
     "name": "stdout",
     "output_type": "stream",
     "text": [
      "Missin values : 2074\n",
      "Miss percentage:12.96\n",
      "\n",
      "<class 'pandas.core.frame.DataFrame'>\n",
      "RangeIndex: 2000 entries, 0 to 1999\n",
      "Data columns (total 8 columns):\n",
      " #   Column  Non-Null Count  Dtype  \n",
      "---  ------  --------------  -----  \n",
      " 0   asia    1728 non-null   float64\n",
      " 1   tub     1763 non-null   float64\n",
      " 2   smoke   1736 non-null   float64\n",
      " 3   lung    1738 non-null   float64\n",
      " 4   bronc   1735 non-null   float64\n",
      " 5   either  1740 non-null   float64\n",
      " 6   xray    1740 non-null   float64\n",
      " 7   dysp    1746 non-null   float64\n",
      "dtypes: float64(8)\n",
      "memory usage: 125.1 KB\n"
     ]
    }
   ],
   "source": [
    "name = \"asia\"\n",
    "dataset = pd.read_csv(DATA + name + \"/test_missing.csv\")\n",
    "print(f\"Missin values : {dataset.isna().sum().sum()}\")\n",
    "print(f\"Miss percentage:{dataset.isna().sum().sum() / dataset.size * 100:.2f}\\n\")\n",
    "dataset.info()"
   ]
  },
  {
   "cell_type": "code",
   "execution_count": 14,
   "id": "a355f9b2",
   "metadata": {},
   "outputs": [
    {
     "name": "stdout",
     "output_type": "stream",
     "text": [
      "Missin values : 1970\n",
      "Miss percentage:8.95\n",
      "\n",
      "<class 'pandas.core.frame.DataFrame'>\n",
      "RangeIndex: 2000 entries, 0 to 1999\n",
      "Data columns (total 11 columns):\n",
      " #   Column  Non-Null Count  Dtype  \n",
      "---  ------  --------------  -----  \n",
      " 0   Erk     1816 non-null   float64\n",
      " 1   Akt     1807 non-null   float64\n",
      " 2   PKA     1819 non-null   float64\n",
      " 3   Mek     1818 non-null   float64\n",
      " 4   Jnk     1812 non-null   float64\n",
      " 5   PKC     1833 non-null   float64\n",
      " 6   Raf     1823 non-null   float64\n",
      " 7   P38     1843 non-null   float64\n",
      " 8   PIP3    1824 non-null   float64\n",
      " 9   PIP2    1814 non-null   float64\n",
      " 10  Plcg    1821 non-null   float64\n",
      "dtypes: float64(11)\n",
      "memory usage: 172.0 KB\n"
     ]
    }
   ],
   "source": [
    "name = \"sachs\"\n",
    "dataset = pd.read_csv(DATA + name + \"/test_missing.csv\")\n",
    "print(f\"Missin values : {dataset.isna().sum().sum()}\")\n",
    "print(f\"Miss percentage:{dataset.isna().sum().sum() / dataset.size * 100:.2f}\\n\")\n",
    "dataset.info()"
   ]
  },
  {
   "cell_type": "code",
   "execution_count": 16,
   "id": "e32fde61",
   "metadata": {},
   "outputs": [
    {
     "name": "stdout",
     "output_type": "stream",
     "text": [
      "Missin values : 206\n",
      "Miss percentage:25.75\n",
      "\n",
      "<class 'pandas.core.frame.DataFrame'>\n",
      "RangeIndex: 200 entries, 0 to 199\n",
      "Data columns (total 4 columns):\n",
      " #   Column     Non-Null Count  Dtype  \n",
      "---  ------     --------------  -----  \n",
      " 0   Cloudy     147 non-null    float64\n",
      " 1   Sprinkler  151 non-null    float64\n",
      " 2   Rain       143 non-null    float64\n",
      " 3   Wet_Grass  153 non-null    float64\n",
      "dtypes: float64(4)\n",
      "memory usage: 6.4 KB\n"
     ]
    }
   ],
   "source": [
    "name = \"sprinkler\"\n",
    "dataset = pd.read_csv(DATA + name + \"/test_missing.csv\")\n",
    "print(f\"Missin values : {dataset.isna().sum().sum()}\")\n",
    "print(f\"Miss percentage:{dataset.isna().sum().sum() / dataset.size * 100:.2f}\\n\")\n",
    "dataset.info()"
   ]
  },
  {
   "cell_type": "code",
   "execution_count": 13,
   "id": "aa8aad9c",
   "metadata": {},
   "outputs": [
    {
     "name": "stdout",
     "output_type": "stream",
     "text": [
      "Missin values : 2037\n",
      "Miss percentage:3.18\n",
      "\n",
      "<class 'pandas.core.frame.DataFrame'>\n",
      "RangeIndex: 2000 entries, 0 to 1999\n",
      "Data columns (total 32 columns):\n",
      " #   Column       Non-Null Count  Dtype  \n",
      "---  ------       --------------  -----  \n",
      " 0   C_NI_12_00   1935 non-null   float64\n",
      " 1   C_NI_12_15   1935 non-null   float64\n",
      " 2   CKNI_12_00   1931 non-null   float64\n",
      " 3   CKNI_12_15   1936 non-null   float64\n",
      " 4   CBODD_12_15  1946 non-null   float64\n",
      " 5   CBODD_12_00  1941 non-null   float64\n",
      " 6   CNOD_12_00   1938 non-null   float64\n",
      " 7   CBODN_12_00  1944 non-null   float64\n",
      " 8   CKND_12_15   1936 non-null   float64\n",
      " 9   CKND_12_00   1934 non-null   float64\n",
      " 10  CKNN_12_00   1940 non-null   float64\n",
      " 11  CNOD_12_15   1943 non-null   float64\n",
      " 12  CNON_12_00   1936 non-null   float64\n",
      " 13  CBODN_12_15  1939 non-null   float64\n",
      " 14  CKNN_12_15   1929 non-null   float64\n",
      " 15  CNON_12_15   1939 non-null   float64\n",
      " 16  C_NI_12_30   1927 non-null   float64\n",
      " 17  CKNI_12_30   1929 non-null   float64\n",
      " 18  CBODD_12_30  1942 non-null   float64\n",
      " 19  CKND_12_30   1943 non-null   float64\n",
      " 20  CNOD_12_30   1924 non-null   float64\n",
      " 21  CBODN_12_30  1925 non-null   float64\n",
      " 22  CKNN_12_30   1939 non-null   float64\n",
      " 23  CNON_12_30   1926 non-null   float64\n",
      " 24  C_NI_12_45   1943 non-null   float64\n",
      " 25  CKNI_12_45   1933 non-null   float64\n",
      " 26  CBODD_12_45  1941 non-null   float64\n",
      " 27  CKND_12_45   1932 non-null   float64\n",
      " 28  CNOD_12_45   1937 non-null   float64\n",
      " 29  CBODN_12_45  1948 non-null   float64\n",
      " 30  CKNN_12_45   1944 non-null   float64\n",
      " 31  CNON_12_45   1928 non-null   float64\n",
      "dtypes: float64(32)\n",
      "memory usage: 500.1 KB\n"
     ]
    }
   ],
   "source": [
    "name = \"water\"\n",
    "dataset = pd.read_csv(DATA + name + \"/test_missing.csv\")\n",
    "print(f\"Missin values : {dataset.isna().sum().sum()}\")\n",
    "print(f\"Miss percentage:{dataset.isna().sum().sum() / dataset.size * 100:.2f}\\n\")\n",
    "dataset.info()"
   ]
  }
 ],
 "metadata": {
  "kernelspec": {
   "display_name": "3.10.13",
   "language": "python",
   "name": "python3"
  },
  "language_info": {
   "codemirror_mode": {
    "name": "ipython",
    "version": 3
   },
   "file_extension": ".py",
   "mimetype": "text/x-python",
   "name": "python",
   "nbconvert_exporter": "python",
   "pygments_lexer": "ipython3",
   "version": "3.10.13"
  }
 },
 "nbformat": 4,
 "nbformat_minor": 5
}
