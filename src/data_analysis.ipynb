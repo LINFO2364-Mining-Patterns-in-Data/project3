{
 "cells": [
  {
   "cell_type": "code",
   "execution_count": 3,
   "id": "7f87cf48",
   "metadata": {},
   "outputs": [],
   "source": [
    "import pandas as pd"
   ]
  },
  {
   "cell_type": "code",
   "execution_count": 1,
   "id": "9ebbd588",
   "metadata": {},
   "outputs": [],
   "source": [
    "ROOT = \"../\"\n",
    "DATA  = ROOT + \"datasets/\"\n",
    "MODELS = ROOT + \"models/\""
   ]
  },
  {
   "cell_type": "code",
   "execution_count": 8,
   "id": "9cdf6bef",
   "metadata": {},
   "outputs": [
    {
     "name": "stdout",
     "output_type": "stream",
     "text": [
      "<class 'pandas.core.frame.DataFrame'>\n",
      "RangeIndex: 8000 entries, 0 to 7999\n",
      "Data columns (total 37 columns):\n",
      " #   Column        Non-Null Count  Dtype\n",
      "---  ------        --------------  -----\n",
      " 0   LVFAILURE     8000 non-null   int64\n",
      " 1   HISTORY       8000 non-null   int64\n",
      " 2   LVEDVOLUME    8000 non-null   int64\n",
      " 3   CVP           8000 non-null   int64\n",
      " 4   PCWP          8000 non-null   int64\n",
      " 5   HYPOVOLEMIA   8000 non-null   int64\n",
      " 6   STROKEVOLUME  8000 non-null   int64\n",
      " 7   ERRLOWOUTPUT  8000 non-null   int64\n",
      " 8   HRBP          8000 non-null   int64\n",
      " 9   HR            8000 non-null   int64\n",
      " 10  ERRCAUTER     8000 non-null   int64\n",
      " 11  HREKG         8000 non-null   int64\n",
      " 12  HRSAT         8000 non-null   int64\n",
      " 13  ANAPHYLAXIS   8000 non-null   int64\n",
      " 14  TPR           8000 non-null   int64\n",
      " 15  ARTCO2        8000 non-null   int64\n",
      " 16  EXPCO2        8000 non-null   int64\n",
      " 17  VENTLUNG      8000 non-null   int64\n",
      " 18  INTUBATION    8000 non-null   int64\n",
      " 19  MINVOL        8000 non-null   int64\n",
      " 20  FIO2          8000 non-null   int64\n",
      " 21  PVSAT         8000 non-null   int64\n",
      " 22  VENTALV       8000 non-null   int64\n",
      " 23  SAO2          8000 non-null   int64\n",
      " 24  SHUNT         8000 non-null   int64\n",
      " 25  PULMEMBOLUS   8000 non-null   int64\n",
      " 26  PAP           8000 non-null   int64\n",
      " 27  PRESS         8000 non-null   int64\n",
      " 28  KINKEDTUBE    8000 non-null   int64\n",
      " 29  VENTTUBE      8000 non-null   int64\n",
      " 30  MINVOLSET     8000 non-null   int64\n",
      " 31  VENTMACH      8000 non-null   int64\n",
      " 32  DISCONNECT    8000 non-null   int64\n",
      " 33  CATECHOL      8000 non-null   int64\n",
      " 34  INSUFFANESTH  8000 non-null   int64\n",
      " 35  CO            8000 non-null   int64\n",
      " 36  BP            8000 non-null   int64\n",
      "dtypes: int64(37)\n",
      "memory usage: 2.3 MB\n"
     ]
    }
   ],
   "source": [
    "alarm = pd.read_csv(DATA + \"alarm/train.csv\")\n",
    "alarm.info()"
   ]
  },
  {
   "cell_type": "code",
   "execution_count": 9,
   "id": "c7bcd1da",
   "metadata": {},
   "outputs": [
    {
     "name": "stdout",
     "output_type": "stream",
     "text": [
      "<class 'pandas.core.frame.DataFrame'>\n",
      "RangeIndex: 8000 entries, 0 to 7999\n",
      "Columns: 223 entries, DISPLACEM0 to SNode_19\n",
      "dtypes: int64(223)\n",
      "memory usage: 13.6 MB\n"
     ]
    }
   ],
   "source": [
    "andes = pd.read_csv(DATA + \"andes/train.csv\")\n",
    "andes.info()"
   ]
  },
  {
   "cell_type": "code",
   "execution_count": 10,
   "id": "816b4fb7",
   "metadata": {},
   "outputs": [
    {
     "name": "stdout",
     "output_type": "stream",
     "text": [
      "<class 'pandas.core.frame.DataFrame'>\n",
      "RangeIndex: 8000 entries, 0 to 7999\n",
      "Data columns (total 8 columns):\n",
      " #   Column  Non-Null Count  Dtype\n",
      "---  ------  --------------  -----\n",
      " 0   asia    8000 non-null   int64\n",
      " 1   tub     8000 non-null   int64\n",
      " 2   smoke   8000 non-null   int64\n",
      " 3   lung    8000 non-null   int64\n",
      " 4   bronc   8000 non-null   int64\n",
      " 5   either  8000 non-null   int64\n",
      " 6   xray    8000 non-null   int64\n",
      " 7   dysp    8000 non-null   int64\n",
      "dtypes: int64(8)\n",
      "memory usage: 500.1 KB\n"
     ]
    }
   ],
   "source": [
    "asia = pd.read_csv(DATA + \"asia/train.csv\")\n",
    "asia.info()"
   ]
  },
  {
   "cell_type": "code",
   "execution_count": 11,
   "id": "a355f9b2",
   "metadata": {},
   "outputs": [
    {
     "name": "stdout",
     "output_type": "stream",
     "text": [
      "<class 'pandas.core.frame.DataFrame'>\n",
      "RangeIndex: 8000 entries, 0 to 7999\n",
      "Data columns (total 11 columns):\n",
      " #   Column  Non-Null Count  Dtype\n",
      "---  ------  --------------  -----\n",
      " 0   Erk     8000 non-null   int64\n",
      " 1   Akt     8000 non-null   int64\n",
      " 2   PKA     8000 non-null   int64\n",
      " 3   Mek     8000 non-null   int64\n",
      " 4   Jnk     8000 non-null   int64\n",
      " 5   PKC     8000 non-null   int64\n",
      " 6   Raf     8000 non-null   int64\n",
      " 7   P38     8000 non-null   int64\n",
      " 8   PIP3    8000 non-null   int64\n",
      " 9   PIP2    8000 non-null   int64\n",
      " 10  Plcg    8000 non-null   int64\n",
      "dtypes: int64(11)\n",
      "memory usage: 687.6 KB\n"
     ]
    }
   ],
   "source": [
    "sachs = pd.read_csv(DATA + \"sachs/train.csv\")\n",
    "sachs.info()"
   ]
  },
  {
   "cell_type": "code",
   "execution_count": 12,
   "id": "e32fde61",
   "metadata": {},
   "outputs": [
    {
     "name": "stdout",
     "output_type": "stream",
     "text": [
      "<class 'pandas.core.frame.DataFrame'>\n",
      "RangeIndex: 800 entries, 0 to 799\n",
      "Data columns (total 4 columns):\n",
      " #   Column     Non-Null Count  Dtype\n",
      "---  ------     --------------  -----\n",
      " 0   Cloudy     800 non-null    int64\n",
      " 1   Sprinkler  800 non-null    int64\n",
      " 2   Rain       800 non-null    int64\n",
      " 3   Wet_Grass  800 non-null    int64\n",
      "dtypes: int64(4)\n",
      "memory usage: 25.1 KB\n"
     ]
    }
   ],
   "source": [
    "sprinkler = pd.read_csv(DATA + \"sprinkler/train.csv\")\n",
    "sprinkler.info()"
   ]
  },
  {
   "cell_type": "code",
   "execution_count": 13,
   "id": "aa8aad9c",
   "metadata": {},
   "outputs": [
    {
     "name": "stdout",
     "output_type": "stream",
     "text": [
      "<class 'pandas.core.frame.DataFrame'>\n",
      "RangeIndex: 8000 entries, 0 to 7999\n",
      "Data columns (total 32 columns):\n",
      " #   Column       Non-Null Count  Dtype\n",
      "---  ------       --------------  -----\n",
      " 0   C_NI_12_00   8000 non-null   int64\n",
      " 1   C_NI_12_15   8000 non-null   int64\n",
      " 2   CKNI_12_00   8000 non-null   int64\n",
      " 3   CKNI_12_15   8000 non-null   int64\n",
      " 4   CBODD_12_15  8000 non-null   int64\n",
      " 5   CBODD_12_00  8000 non-null   int64\n",
      " 6   CNOD_12_00   8000 non-null   int64\n",
      " 7   CBODN_12_00  8000 non-null   int64\n",
      " 8   CKND_12_15   8000 non-null   int64\n",
      " 9   CKND_12_00   8000 non-null   int64\n",
      " 10  CKNN_12_00   8000 non-null   int64\n",
      " 11  CNOD_12_15   8000 non-null   int64\n",
      " 12  CNON_12_00   8000 non-null   int64\n",
      " 13  CBODN_12_15  8000 non-null   int64\n",
      " 14  CKNN_12_15   8000 non-null   int64\n",
      " 15  CNON_12_15   8000 non-null   int64\n",
      " 16  C_NI_12_30   8000 non-null   int64\n",
      " 17  CKNI_12_30   8000 non-null   int64\n",
      " 18  CBODD_12_30  8000 non-null   int64\n",
      " 19  CKND_12_30   8000 non-null   int64\n",
      " 20  CNOD_12_30   8000 non-null   int64\n",
      " 21  CBODN_12_30  8000 non-null   int64\n",
      " 22  CKNN_12_30   8000 non-null   int64\n",
      " 23  CNON_12_30   8000 non-null   int64\n",
      " 24  C_NI_12_45   8000 non-null   int64\n",
      " 25  CKNI_12_45   8000 non-null   int64\n",
      " 26  CBODD_12_45  8000 non-null   int64\n",
      " 27  CKND_12_45   8000 non-null   int64\n",
      " 28  CNOD_12_45   8000 non-null   int64\n",
      " 29  CBODN_12_45  8000 non-null   int64\n",
      " 30  CKNN_12_45   8000 non-null   int64\n",
      " 31  CNON_12_45   8000 non-null   int64\n",
      "dtypes: int64(32)\n",
      "memory usage: 2.0 MB\n"
     ]
    }
   ],
   "source": [
    "water = pd.read_csv(DATA + \"water/train.csv\")\n",
    "water.info()"
   ]
  }
 ],
 "metadata": {
  "kernelspec": {
   "display_name": "3.10.13",
   "language": "python",
   "name": "python3"
  },
  "language_info": {
   "codemirror_mode": {
    "name": "ipython",
    "version": 3
   },
   "file_extension": ".py",
   "mimetype": "text/x-python",
   "name": "python",
   "nbconvert_exporter": "python",
   "pygments_lexer": "ipython3",
   "version": "3.10.13"
  }
 },
 "nbformat": 4,
 "nbformat_minor": 5
}
